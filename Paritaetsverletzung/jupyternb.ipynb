{
 "cells": [
  {
   "cell_type": "code",
   "execution_count": 1,
   "id": "331b4fe7-ce38-44fa-9383-9805dba67fd9",
   "metadata": {},
   "outputs": [],
   "source": [
    "import numpy as np \n",
    "from uncertainties import ufloat, unumpy\n",
    "import pandas as pd"
   ]
  },
  {
   "cell_type": "code",
   "execution_count": 2,
   "id": "7d17b930-4cf1-4666-a200-eb7c00adfc33",
   "metadata": {},
   "outputs": [
    {
     "name": "stdout",
     "output_type": "stream",
     "text": [
      "119.46439260720487 117.75744111082047\n"
     ]
    }
   ],
   "source": [
    "data=pd.read_csv('Daten/links_zsm.csv',delimiter=';',decimal=\".\") #importiere Daten\n",
    "data.columns=['Nm','Nm_error']\n",
    "Nm_value = data['Nm'].to_numpy() \n",
    "Nm_error = data['Nm_error'].to_numpy()\n",
    "\n",
    "\n",
    "data=pd.read_csv('Daten/rechts_zsm.csv',delimiter=';',decimal=\".\") #importiere Daten\n",
    "data.columns=['Np','Np_error']\n",
    "Np_value = data['Np'].to_numpy() \n",
    "Np_error = data['Np_error'].to_numpy()\n",
    "\n",
    "\n",
    "print(np.mean(Nm_error),np.mean(Np_error))\n",
    "#-> sys abweichung von N+- ist etwa 120\n"
   ]
  },
  {
   "cell_type": "code",
   "execution_count": 3,
   "id": "1af0d208-8551-4311-9ba5-1d1bd144bdb4",
   "metadata": {},
   "outputs": [
    {
     "name": "stdout",
     "output_type": "stream",
     "text": [
      "Summe N_+ =  416099.0 +-  645.057361790407\n",
      "Summe N_- =  428262.0 +-  654.4172980598847\n",
      "Asymmetrie E =  0.01440497607066172 +-  0.0010881552300383707 +-  0.00020100790279674462\n"
     ]
    }
   ],
   "source": [
    "#Methode 1\n",
    "#Summe der Messerwerte bilden, daraus die Asymmetrie E berechnen. Fehler der Asymmetrie aus gausscher Fehlerfortpflanzung, fehler der Summe = Wurzel der Summe, Methode 1\n",
    "Np = np.sum(Np_value)\n",
    "sigma_sys_N = 120\n",
    "sigma_Np = np.sqrt(Np)\n",
    "print(\"Summe N_+ = \", Np, \"+- \", sigma_Np)\n",
    "Nm = np.sum(Nm_value)\n",
    "sigma_Nm = np.sqrt(Nm)\n",
    "print(\"Summe N_- = \", Nm, \"+- \", sigma_Nm)\n",
    "E_1 = (Nm-Np)/(Nm+Np)\n",
    "E_1_sigma_stat = np.sqrt((2*Nm*sigma_Np/(Nm+Np)**2)**2+ (2*Np*sigma_Nm/(Nm+Np)**2)**2)\n",
    "#Annahme : Systematischer Fehler bei Summe der Zähler etwa 120*30\n",
    "E_1_sigma_sys = np.sqrt((2*Nm*sigma_sys_N/(Nm+Np)**2)**2+ (2*Np*sigma_sys_N/(Nm+Np)**2)**2)\n",
    "print(\"Asymmetrie E = \", E_1, \"+- \", E_1_sigma_stat , \"+- \", E_1_sigma_sys)\n"
   ]
  },
  {
   "cell_type": "code",
   "execution_count": 4,
   "id": "8a5ea98a-5ed3-47d6-9d7a-0eea037a09a7",
   "metadata": {},
   "outputs": [
    {
     "name": "stdout",
     "output_type": "stream",
     "text": [
      "0.01437539361841089 +-  0.0010868184413687198 +-  0.00016750658566395385\n"
     ]
    }
   ],
   "source": [
    "#Methode 2\n",
    "#Asymmetrie der Einzelwerte bilden, daraus mittelwert und standartabweichung = stat fehler, sys fehler wie bei methode 1\n",
    "\n",
    "E_2 = (Nm_value - Np_value)/(Nm_value + Np_value)\n",
    "E_2_sigma_stat = np.std(E_2)/np.sqrt(30)\n",
    "E_2 = np.mean(E_2)\n",
    "\n",
    "#Annahme: Systematischer Fehler bei einzelner Messung etwa 120, siehe Zelle 1\n",
    "E_2_sigma_sys = np.sqrt(2*(1+E_1**2))/(Nm+Np) * 100\n",
    "\n",
    "print(E_2, \"+- \", E_2_sigma_stat ,\"+- \", E_2_sigma_sys)\n"
   ]
  },
  {
   "cell_type": "code",
   "execution_count": 5,
   "id": "da274520-eea4-4b77-89b3-20eb7ec3fff3",
   "metadata": {},
   "outputs": [
    {
     "name": "stdout",
     "output_type": "stream",
     "text": [
      "Polarisation mit Methode 1: P=  0.360124401766543 +-  0.027203880750959267 +- 0.04794022502381883\n",
      "Polarisation mit Methode 2: P=  0.35938484046027225 +-  0.027170461034217996 +- 0.04776214866065227\n"
     ]
    }
   ],
   "source": [
    "#Berechnung der Polarisation, index 1 & 2 jeweils für Methode 1 und zwei\n",
    "E = np.array([E_1,E_2])\n",
    "f= 2/26\n",
    "phi = 0.52\n",
    "E_sigma_stat = np.array([E_1_sigma_stat,E_2_sigma_stat])\n",
    "E_sigma_sys = np.array([E_1_sigma_sys,E_2_sigma_sys])\n",
    "\n",
    "P = E/(2/26*0.52)\n",
    "\n",
    "#statistischer Fehler\n",
    "P_sigma_stat = E_sigma_stat/(f*phi)\n",
    "\n",
    "#systematischer Fehler, gaussche Fehlerfortpflanzung (die erste ableitung nach E, die zweite ist ableitung nach phi/phi_0 \n",
    "#dritter fehler auf f, mit fehler auf E berechtet, fehler auf phi = 0.05, fehler auf f = 0.007\n",
    "P_sigma_sys = np.sqrt((1/(f*phi)*E_sigma_sys)**2 + (-E/(f*phi**2)*0.05)**2 + (E/(f**2*phi)*0.007)**2)\n",
    "\n",
    "print(\"Polarisation mit Methode 1: P= \",P[0] , \"+- \", P_sigma_stat[0], \"+-\", P_sigma_sys[0])\n",
    "print(\"Polarisation mit Methode 2: P= \",P[1] , \"+- \", P_sigma_stat[1], \"+-\", P_sigma_sys[1])\n",
    "\n",
    "\n"
   ]
  },
  {
   "cell_type": "code",
   "execution_count": 6,
   "id": "c75ecfb7-25a8-44c1-8ac4-43e09e824604",
   "metadata": {},
   "outputs": [
    {
     "name": "stdout",
     "output_type": "stream",
     "text": [
      "Helizität mit Methode 1: P=  0.4501555022081787 +-  0.03400485093869908 +- 0.04794022502381883\n",
      "Helizität mit Methode 2: P=  0.4492310505753403 +-  0.033963076292772496 +- 0.04776214866065227\n"
     ]
    }
   ],
   "source": [
    "#Berechnung der Helizität, Schätzung L = 0.8 +- 0.15\n",
    "L = 0.8\n",
    "L_sigma = 0.15\n",
    "H = P/L\n",
    "H_sigma_stat = np.sqrt((P_sigma_stat/L)**2)\n",
    "H_sigma_sys = np.sqrt((1/L*P_sigma_sys)**2 + ((-P/L**2)*L_sigma)**2)\n",
    "\n",
    "print(\"Helizität mit Methode 1: P= \",H[0] , \"+- \", H_sigma_stat[0], \"+-\", P_sigma_sys[0])\n",
    "print(\"Helizität mit Methode 2: P= \",H[1] , \"+- \", H_sigma_stat[1], \"+-\", P_sigma_sys[1])\n"
   ]
  }
 ],
 "metadata": {
  "kernelspec": {
   "display_name": "Python 3 (ipykernel)",
   "language": "python",
   "name": "python3"
  },
  "language_info": {
   "codemirror_mode": {
    "name": "ipython",
    "version": 3
   },
   "file_extension": ".py",
   "mimetype": "text/x-python",
   "name": "python",
   "nbconvert_exporter": "python",
   "pygments_lexer": "ipython3",
   "version": "3.9.13"
  }
 },
 "nbformat": 4,
 "nbformat_minor": 5
}
