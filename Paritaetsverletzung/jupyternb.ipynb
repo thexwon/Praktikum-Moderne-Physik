{
 "cells": [
  {
   "cell_type": "code",
   "execution_count": 1,
   "id": "331b4fe7-ce38-44fa-9383-9805dba67fd9",
   "metadata": {},
   "outputs": [],
   "source": [
    "import numpy as np \n",
    "from uncertainties import ufloat, unumpy\n",
    "import pandas as pd"
   ]
  },
  {
   "cell_type": "code",
   "execution_count": 11,
   "id": "7d17b930-4cf1-4666-a200-eb7c00adfc33",
   "metadata": {},
   "outputs": [
    {
     "name": "stdout",
     "output_type": "stream",
     "text": [
      "0.0144+/-0.0011\n",
      "0.01437539361841089 +- 0.00019842499208341788\n"
     ]
    }
   ],
   "source": [
    "data=pd.read_csv('Daten/links_zsm.csv',delimiter=';',decimal=\".\") #importiere Daten\n",
    "data.columns=['Nm','Nm_error']\n",
    "Nm_value = data['Nm'].to_numpy() \n",
    "Nm_error = data['Nm_error'].to_numpy()\n",
    "\n",
    "Nm = unumpy.uarray(Nm_value, Nm_error)\n",
    "\n",
    "data=pd.read_csv('Daten/rechts_zsm.csv',delimiter=';',decimal=\".\") #importiere Daten\n",
    "data.columns=['Np','Np_error']\n",
    "Np_value = data['Np'].to_numpy() \n",
    "Np_error = data['Np_error'].to_numpy()\n",
    "iuiiu\n",
    "Np = unumpy.uarray(Np_value, Np_error)\n",
    "\n",
    "\n",
    "#AB HIER VERWERFEN: uncertainties macht lineare Fehlerfortpflanzung, nicht gaussche\n",
    "#bei jeder Methode den systematischen Fehler noch bestimmen\n",
    "\n",
    "#Summe der Messerwerte bilden, daraus die Asymmetrie E berechnen. Fehler der Asymmetrie aus gausscher Fehlerfortpflanzung, fehler der Summe = Wurzel der Summe, Methode 1\n",
    "\n",
    "summ = np.sum(unumpy.nominal_values(Nm))\n",
    "sump = np.sum(unumpy.nominal_values(Np))\n",
    "summ = unumpy.uarray(summ,np.sqrt(summ))\n",
    "sump = unumpy.uarray(sump,np.sqrt(sump))\n",
    "sum_E = (summ - sump)/(summ + sump)\n",
    "\n",
    "print(sum_E)\n",
    "\n",
    "#E für jedes Werte paar einzeln berechnet, danach Mittelwert und standardabweichung bilden , Methode 2 \n",
    "E_2 = (Nm-Np)/(Nm+Np)\n",
    "\n",
    "E_mean = np.mean(unumpy.nominal_values(E))\n",
    "E_std = np.std(unumpy.nominal_values(E))/30\n",
    "\n",
    "print(E_mean , \"+-\" , E_std)\n",
    "\n",
    "\n",
    "\n"
   ]
  }
 ],
 "metadata": {
  "kernelspec": {
   "display_name": "Python 3 (ipykernel)",
   "language": "python",
   "name": "python3"
  },
  "language_info": {
   "codemirror_mode": {
    "name": "ipython",
    "version": 3
   },
   "file_extension": ".py",
   "mimetype": "text/x-python",
   "name": "python",
   "nbconvert_exporter": "python",
   "pygments_lexer": "ipython3",
   "version": "3.9.13"
  }
 },
 "nbformat": 4,
 "nbformat_minor": 5
}
